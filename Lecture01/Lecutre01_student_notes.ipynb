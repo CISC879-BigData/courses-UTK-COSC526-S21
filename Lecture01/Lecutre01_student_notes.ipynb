{
 "cells": [
  {
   "cell_type": "markdown",
   "metadata": {},
   "source": [
    "# COSC 526 - \"Start Here\" Document \n",
    "\n",
    "January 22, 2021"
   ]
  },
  {
   "cell_type": "markdown",
   "metadata": {},
   "source": [
    "\n",
    "This document outlines how to install and use most of the programming tools that we will be using this semester.  Completing all of the steps in this document is a prerequisite to starting the first assignment.\n",
    "\n",
    "---\n",
    "\n",
    "# Git & GitHub\n",
    "In this class, we will be using git & GitHub to distribute & collect assignments as well as other class materials (e.g., slides, code, and datasets). For this lecture, we will only be covering how to download repositories from GitHub (called cloning in git terminology). Next lecture we will go more in depth into both git and GitHub, including how to submit your assignments.\n",
    "\n",
    "### GitHub Account\n",
    "The first thing you need is a GitHub account. If you don't already have one, go to the [GitHub Sign Up page](https://github.com/join) and create a free account. Once you have made your account, send your GitHub username to the email address written on the board.  Once you have been given access by the class instructor, you should be able to [view this document on GitHub](https://github.com/CISC879-BigData/2020S-COSC526/blob/master/Assignment01/StartHere.ipynb) (2020S-COSC526 > Assignment01 > StartHere.ipynb).\n",
    "\n",
    "**Note**: if you add your utk.edu email address to your GitHub account, you will eligible for the [GitHub student pack](https://education.github.com/pack), which includes tons of free stuff (e.g., free premium GitHub account with unlimited private repos, free AWS credits, and free cloud hosting).\n",
    "\n",
    "### Git\n",
    "Now that you have a GitHub account, you need git.\n",
    " - If you are using Windows or Mac, you can download the [GitHub Desktop application](https://desktop.github.com/) to use git via a GUI.\n",
    "   - You can find GitHub's installation help [here](https://help.github.com/desktop/guides/getting-started-with-github-desktop/).\n",
    "   - Once you have downloaded and installed GitHub Desktop, go ahead and login with your new account.\n",
    " - If you are using Linux, you must install the command-line interface (CLI) of git (if you don't know how to do this for your linux distro, please ask for assistance).\n",
    "\n",
    "### Class GitHub Repository\n",
    "Using either the GitHub Desktop app or the git CLI, clone the class repo: https://github.com/CISC879-BigData/2020S-COSC526.\n",
    " - Step-by-step instructions for cloning with GitHub Desktop can be found [here](https://help.github.com/en/desktop/contributing-to-projects/cloning-a-repository-from-github-desktop).  \n",
    " \n",
    "---\n",
    "\n",
    "# Anaconda\n",
    "In this class, we will be extensively using Python (specifically Python 3.7) as well as many Python packages (e.g., jupyter notebooks, pyspark, numpy, scipy, scikit-learn, and pandas).  To ease the installation/use of these programming tools and ensure that the entire class is using the same environment, we will all be installing and using Anaconda.  Anaconda is a Python distribution that includes many popular packages by default and makes installing additional packages easy.  You can find more information about Anaconda [here](https://www.anaconda.com/what-is-anaconda/).\n",
    "\n",
    "### Installation\n",
    "To install Anaconda (Distribution, not Enterprise or Cloud), follow the installation instructions for your operating system:\n",
    " - [Windows](https://docs.anaconda.com/anaconda/install/windows/)\n",
    " - [Mac](https://docs.anaconda.com/anaconda/install/mac-os/)\n",
    " - [Linux](https://docs.anaconda.com/anaconda/install/linux/)\n",
    "     \n",
    "---\n",
    "\n",
    "# Jupyter Notebooks\n",
    "In this class, all of your assignments will be done in [Jupyter Notebooks](http://jupyter.org/).  Jupyter Notebooks allow you to create and share documents that contain live code, equations, visualizations and narrative text. We will give you a Jupyter Notebook that contains the problems that you must solve (in fact the document you are reading right now is a Jupyter Notebook).  Some of the problems we give you will already contain some template code that you can build off of. \n",
    "\n",
    "Note: For you own work beyond this class, [JupyterLab](https://jupyterlab.readthedocs.io/en/stable/) is a great alternative to Jupyter Notebooks for portable code that can be edited and executed via a web-browser.\n",
    "\n",
    "### CLI Usage\n",
    "If you are familiar and comfortable working with at the command line, you can launch jupyter by running `jupyter notebook` inside of the clone'd repo.\n",
    "\n",
    "If you aren't familiar with the command line, go to the next section \"GUI Usage\".\n",
    "\n",
    "### GUI Usage\n",
    " - Launch the 'Anaconda Navigator' application, which should now be installed on your system:\n",
    " \n",
    " ![anaconda-navigator.png](images/anaconda-navigator.png)\n",
    " \n",
    " - From the 'Anaconda Navigator', launch the 'Jupyter Notebook':\n",
    " \n",
    " ![jupyter-notebook-launch.png](images/jupyter-notebook-launch.png)\n",
    " \n",
    " - Find and open the notebook titled 'StartHere.ipynb' that you clone'd from GitHub\n",
    " \n",
    " - If you are having trouble locating the location of your clone'd repo, look here in the GitHub Desktop app:\n",
    " \n",
    " ![open-this-repo.png](images/open-this-repo.png)"
   ]
  },
  {
   "cell_type": "markdown",
   "metadata": {},
   "source": [
    "---\n",
    "\n",
    "# Test Your Installation\n",
    "At this point, you should no longer be viewing a pdf version of this document.  To verify this, try running the code below;--select the code cell and press 'Shift+Enter'.  You should see it print (below the cell): \"Hello World!\" along with the date."
   ]
  },
  {
   "cell_type": "code",
   "execution_count": null,
   "metadata": {},
   "outputs": [],
   "source": [
    "from datetime import datetime\n",
    "print(\"Hello World! Right now, it is {}.\".format(datetime.today().strftime(\"%c\")))"
   ]
  },
  {
   "cell_type": "markdown",
   "metadata": {},
   "source": [
    "If you are able to execute the above code, great! You can move onto the first assignment Assignment01 - Assignment01.ipynb.\n",
    "\n",
    "If not, please ask for assistance in troubleshooting the problem.  You will not be able to complete the assignment from GitHub.  You must be running this notebook locally on your machine."
   ]
  }
 ],
 "metadata": {
  "kernelspec": {
   "display_name": "Python 3",
   "language": "python",
   "name": "python3"
  },
  "language_info": {
   "codemirror_mode": {
    "name": "ipython",
    "version": 3
   },
   "file_extension": ".py",
   "mimetype": "text/x-python",
   "name": "python",
   "nbconvert_exporter": "python",
   "pygments_lexer": "ipython3",
   "version": "3.8.3"
  }
 },
 "nbformat": 4,
 "nbformat_minor": 2
}
