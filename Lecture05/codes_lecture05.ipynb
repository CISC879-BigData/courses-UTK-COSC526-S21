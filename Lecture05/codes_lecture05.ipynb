{
 "cells": [
  {
   "cell_type": "markdown",
   "metadata": {},
   "source": [
    "**Lecutre 5: support material**\n",
    "\n",
    "The codes in the cells below are examples presented in the slides of Lecture 4. Use the lecture slides as reference for comments and other informations. \n",
    "\n",
    "##### Things to consider:\n",
    "\n",
    "Refer to material in Lecture 04 if you are not able to find pyspark on your local machine."
   ]
  },
  {
   "cell_type": "code",
   "execution_count": null,
   "metadata": {},
   "outputs": [],
   "source": [
    "# Initializing Spark in Python\n",
    "from pyspark import SparkContext, SparkConf\n",
    "conf = SparkConf().setMaster('local').setAppName('WordCount')\n",
    "sc = SparkContext(conf=conf)"
   ]
  },
  {
   "cell_type": "code",
   "execution_count": null,
   "metadata": {},
   "outputs": [],
   "source": [
    "lines  = sc.textFile('FoxInSocks.txt')\n",
    "words  = lines.flatMap(lambda line: line.split())\n",
    "pairs  = words.map(lambda word: (word, 1))\n",
    "counts = pairs.reduceByKey(lambda a, b: a+b) # counts is an RDD!"
   ]
  },
  {
   "cell_type": "code",
   "execution_count": null,
   "metadata": {},
   "outputs": [],
   "source": [
    "results = counts.collect()"
   ]
  },
  {
   "cell_type": "code",
   "execution_count": null,
   "metadata": {},
   "outputs": [],
   "source": [
    "print(results)"
   ]
  },
  {
   "cell_type": "code",
   "execution_count": null,
   "metadata": {},
   "outputs": [],
   "source": []
  }
 ],
 "metadata": {
  "kernelspec": {
   "display_name": "Python 3",
   "language": "python",
   "name": "python3"
  },
  "language_info": {
   "codemirror_mode": {
    "name": "ipython",
    "version": 3
   },
   "file_extension": ".py",
   "mimetype": "text/x-python",
   "name": "python",
   "nbconvert_exporter": "python",
   "pygments_lexer": "ipython3",
   "version": "3.8.3"
  }
 },
 "nbformat": 4,
 "nbformat_minor": 2
}
