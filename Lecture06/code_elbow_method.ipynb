{
 "cells": [
  {
   "cell_type": "markdown",
   "metadata": {},
   "source": [
    "# K-means elbow method\n",
    "\n",
    "From: https://pythonprogramminglanguage.com/kmeans-elbow-method/\n",
    "\n",
    "The k-means algorithm can cluster observed data. But how many clusters (k) are there?\n",
    "\n",
    "The elbow method finds the optimal value for k (#clusters). The elbow method plots the value of a cost function produced by different values of k for the considered dataset. The funciton mesures the \"distance\" between the data points and the respective centroid of the cluster to which the data point belongs.\n",
    "\n",
    "We can define different cost functions - e.g., the total within-cluster sum of square (wss)."
   ]
  },
  {
   "cell_type": "code",
   "execution_count": null,
   "metadata": {},
   "outputs": [],
   "source": [
    "# clustering dataset\n",
    "# determine k using elbow method\n",
    "\n",
    "from sklearn.cluster import KMeans\n",
    "from sklearn import metrics\n",
    "from scipy.spatial.distance import cdist\n",
    "import numpy as np\n",
    "import matplotlib.pyplot as plt\n",
    "\n",
    "# data\n",
    "x1 = np.array([3, 1, 1, 2, 1, 6, 6, 6, 5, 6, 7, 8, 9, 8, 9, 9, 8])\n",
    "x2 = np.array([5, 4, 5, 6, 5, 8, 6, 7, 6, 7, 1, 2, 1, 2, 3, 2, 3])\n",
    "\n",
    "# plot the data as points in a 2-D space\n",
    "plt.plot()\n",
    "plt.xlim([0, 10])\n",
    "plt.ylim([0, 10])\n",
    "plt.title('Dataset')\n",
    "plt.scatter(x1, x2)\n",
    "plt.show()"
   ]
  },
  {
   "cell_type": "code",
   "execution_count": null,
   "metadata": {},
   "outputs": [],
   "source": [
    "# data - restructured as points\n",
    "X = np.array(list(zip(x1, x2))).reshape(len(x1), 2)\n",
    "print (X)\n"
   ]
  },
  {
   "cell_type": "markdown",
   "metadata": {},
   "source": [
    "Let's use this cost function: the total within-cluster sum of square (wss)\n",
    "\n",
    "Let's plot:\n",
    " - values for K on the X axis\n",
    " - the distortion on the Y axis (the values calculated with the cost function between the points of a cluster and their centroid)"
   ]
  },
  {
   "cell_type": "code",
   "execution_count": null,
   "metadata": {},
   "outputs": [],
   "source": [
    "# k means determine k\n",
    "distortions = []\n",
    "K = range(1,10)\n",
    "for k in K:\n",
    "    # number of clusters to form and number of centroids to generate\n",
    "    kmeanModel = KMeans(n_clusters=k)\n",
    "    # compute k-means clustering\n",
    "    kmeanModel.fit(X)\n",
    "    # min cost function - the total within-cluster sum of square (wss)\n",
    "    distortions.append(sum(np.min(cdist(X, kmeanModel.cluster_centers_, 'euclidean'), axis=1)) / X.shape[0])\n",
    "\n",
    "# Plot the elbow\n",
    "plt.plot(K, distortions, 'bx-')\n",
    "plt.xlabel('k')\n",
    "plt.ylabel('Distortion')\n",
    "plt.title('The Elbow Method showing the optimal k')\n",
    "plt.show()"
   ]
  },
  {
   "cell_type": "markdown",
   "metadata": {},
   "source": [
    "We observe:\n",
    " - When K increases, the centroids are closer to the clusters centroids.\n",
    " - The improvements will decline, at some point rapidly, creating the elbow shape.\n",
    " - The point on the elbow is the optimal value for K. In our test above, K=3."
   ]
  },
  {
   "cell_type": "markdown",
   "metadata": {},
   "source": [
    "From: http://www.awesomestats.in/python-cluster-validation/\n",
    "\n",
    "Let's use a different cost function. "
   ]
  },
  {
   "cell_type": "code",
   "execution_count": null,
   "metadata": {},
   "outputs": [],
   "source": [
    "# k means determine k\n",
    "distortions = []\n",
    "K = range(1,10)\n",
    "for k in K:\n",
    "    # number of clusters to form and number of centroids to generate\n",
    "    kmeanModel = KMeans(n_clusters=k)\n",
    "    # compute k-means clustering\n",
    "    kmeanModel.fit(X)\n",
    "    # inertia_ : float\n",
    "    # sum of squared distances of samples to their closest cluster center\n",
    "    distortions.append( kmeanModel.inertia_ )\n",
    "\n",
    "# Plot the elbow\n",
    "plt.plot(K, distortions, 'bx-')\n",
    "plt.xlabel('k')\n",
    "plt.ylabel('Distortion')\n",
    "plt.title('The Elbow Method showing the optimal k')\n",
    "plt.show()"
   ]
  },
  {
   "cell_type": "markdown",
   "metadata": {},
   "source": [
    "The observations above are still valid:\n",
    "\n",
    " - When l increases, the centroids are closer to the clusters centroids\n",
    " - The improvements will decline, at some point rapidly, creating the elbow shape\n",
    " - The point at the elbow is the optimal value for K. In the image above, K=3."
   ]
  }
 ],
 "metadata": {
  "kernelspec": {
   "display_name": "Python 3",
   "language": "python",
   "name": "python3"
  },
  "language_info": {
   "codemirror_mode": {
    "name": "ipython",
    "version": 3
   },
   "file_extension": ".py",
   "mimetype": "text/x-python",
   "name": "python",
   "nbconvert_exporter": "python",
   "pygments_lexer": "ipython3",
   "version": "3.8.3"
  }
 },
 "nbformat": 4,
 "nbformat_minor": 2
}
